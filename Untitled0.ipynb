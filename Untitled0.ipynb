{
  "nbformat": 4,
  "nbformat_minor": 0,
  "metadata": {
    "colab": {
      "name": "Untitled0.ipynb",
      "provenance": [],
      "collapsed_sections": [],
      "include_colab_link": true
    },
    "kernelspec": {
      "name": "python3",
      "display_name": "Python 3"
    }
  },
  "cells": [
    {
      "cell_type": "markdown",
      "metadata": {
        "id": "view-in-github",
        "colab_type": "text"
      },
      "source": [
        "<a href=\"https://colab.research.google.com/github/KACHIKA69/My_First_Test_Repo/blob/master/Untitled0.ipynb\" target=\"_parent\"><img src=\"https://colab.research.google.com/assets/colab-badge.svg\" alt=\"Open In Colab\"/></a>"
      ]
    },
    {
      "cell_type": "markdown",
      "metadata": {
        "id": "X6MFRHoDTE-R",
        "colab_type": "text"
      },
      "source": [
        "#**Пример использования Markdown**"
      ]
    },
    {
      "cell_type": "markdown",
      "metadata": {
        "id": "rO5jjGUlaHaf",
        "colab_type": "text"
      },
      "source": [
        "Что сделал Зеленский за время своего правления:\n",
        "\n",
        "1.Распустил Раду\n",
        "\n",
        "2.Уволил почти всех губернаторов\n",
        "\n",
        "3.Много и эффектно распекал чиновников\n"
      ]
    },
    {
      "cell_type": "markdown",
      "metadata": {
        "id": "vibDudzla7I2",
        "colab_type": "text"
      },
      "source": [
        "![Зеленский](https://upload.wikimedia.org/wikipedia/commons/9/9c/Volodymyr_Zelensky_Official_portrait.jpg)"
      ]
    },
    {
      "cell_type": "markdown",
      "metadata": {
        "id": "rEg_Q-CJfMQr",
        "colab_type": "text"
      },
      "source": [
        "| раз | два | три |\n",
        "|:----|:----|:----|\n",
        "| елоч  |-ка | гори!!!!! |\n"
      ]
    }
  ]
}